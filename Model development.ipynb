{
 "cells": [
  {
   "attachments": {},
   "cell_type": "markdown",
   "metadata": {},
   "source": [
    "# Evolution of identity and covert signaling model development\n",
    "\n",
    "Breaking ground on agent-based version of the model in [\"The Evolution of Covert Signaling\"](https://www.nature.com/articles/s41598-018-22926-1). \n",
    "\n",
    "\n",
    "## Agents\n",
    "\n",
    "In this model agents interact with one another, expressing $K$ static, randomly initialized traits, $\\tau_{i} \\in \\{-1, 1\\}^{K}$, and updating their interpersonal attitudes about other agents in the system when two agents interact. Attitudes about other agents are denoted $a_{i,t} \\in \\{-1, 0, 1\\}^N$, where $N$ is the number of agents. \n",
    "\n",
    "An attitude of -1 indicates \"disliking\", an attitude of 0 indicates a \"neutral\" opinion, and an attitude of 1 indicates \"liking\". Each agent has a signalling strategy, \"Overt\" or \"Covert\", and a receiving strategy, which is either \"Generous\" or \"Churlish\". Generous agents have a neutral attitude towards others prior to dyadic interaction, and Churlish agents dislike others prior to dyadic interaction.\n",
    "\n",
    "Finally, each agent $i$ has an accumulated payoff at time $t$, $\\pi_{i,t}$.\n",
    "\n",
    "\n",
    "## Dynamics\n",
    "\n",
    "### Signaling and attitude formation\n",
    "\n",
    "To begin, every agent produces a covert or overt signal depending on their signaling strategy. A proportion $R$ of the population recieves an overt signal when produced, and a proportion $r$ receives a covert signal when produced. If signaller and receiver are dissimilar, the receiver does not notice a covert signal.\n",
    "\n",
    "Upon receiving a signal of similarity, attitudes are updated to liking. Upon receiving a signal of dissimilarity, attitudes are updated to disliking.\n",
    "\n",
    "### Interaction round\n",
    "\n",
    "A single interaction round consists of $n_r$ rounds of assortment into dyads, possible dyadic interaction, and then payoff resulting from dyadic interaction, if it occurs.\n",
    "\n",
    "Dyadic interaction occurs with a probability that varies depending on whether two agents both like each other, one likes the other and the other\n",
    "is neutral, both are neutral, or one or both dislikes the other. The probabilities are given in the table below. \n",
    "\n",
    "In that table the probability that paired agents interact is given in terms of $w_L$ and $w_D$. These are defined via the parameter $w$, which indicates the degree of homophily of agents---i.e., as $w$ increases, agents more often will reject interactions with agents they dislike and increasingly accept dyadic interactions with agents who they like. $w_L = 0.5 + w$ and $w_D = 0.5 - w$.\n",
    "\n",
    "\n",
    "#### Probability of dyadic interaction\n",
    "Attitudes  |  Pr(paired agents interact)  \n",
    "----------:| :----------------:\n",
    "Like, Like       |  $w_L$       \n",
    "Like, Neutral    | $(w_L + 0.5) / 2$    \n",
    "Neutral, Neutral | $0.5$  \n",
    "Neutral, Dislike | $(w_D + 0.5) / 2$       \n",
    "Dislike, Dislike | $w_D$      \n",
    "\n",
    "If the paired agents do have a dyadic interaction, then they will get a payoff based on their attitudes and whether they have similar or dissimilar traits, as summarized in the table below.\n",
    "\n",
    "#### Payoff structure\n",
    "Attitudes  |  Similar Pair  |  Dissimilar pair\n",
    "----------:|:----------------:|:------------------:\n",
    "Like, Like |  $1 + s$       |     NA\n",
    "Like, Neutral | $1 + s$     |     NA\n",
    "Neutral, Neutral | $1 + s$  |      1\n",
    "Neutral, Dislike | NA       |    $1 - d$\n",
    "Dislike, Dislike | NA       |    $1-d-\\delta$\n",
    "\n",
    "\n",
    "\n",
    "## Evolution\n",
    "\n",
    "After each interaction round has completed its $n_r$ assortment/payoff rounds, every agent has the chance to evolve its receiving and signaling strategies. \n",
    "\n",
    "1. Agent $i$ selects another agent $j$ at random to potentially learn from\n",
    "1. The probability that agent $i$ inspects agent $j$'s total payoff and strategies is given by the same probabilities of dyadic interaction given in the table above.\n",
    "1. If $i$ inspects $j$, the probability agent $i$ adopts the strategies of agent $j$ will be a sigmoidal function of the proportion of accumulated payoffs, $\\frac{\\pi_{j,t}}{\\pi_{i,t}}$.\n",
    "\n",
    "\n",
    "## Parameters summary\n",
    "\n",
    "- $N$: Population\n",
    "- $n_r$: Number of assortment/payoff rounds per interaction round\n",
    "- $K$: Number of traits per agent\n",
    "- $R$: Proportion of agents receiving overt signals\n",
    "- $r$: Proportion of agents receiving covert signals\n",
    "- $s$: Benefit to similarity in dyadic interaction payoff\n",
    "- $d$: Penalty when exactly one dissimilar agent dislikes its dyadic interaction partner\n",
    "- $\\delta$: Additional penalty when two dissimilar agents each dislike one another\n",
    "- $w$: Assortment parameter that sets the relative likelihood that two similar agents will interact versus two dissimilar agents deciding to have a dyadic interaction once paired."
   ]
  },
  {
   "cell_type": "code",
   "execution_count": 4,
   "metadata": {},
   "outputs": [
    {
     "name": "stdout",
     "output_type": "stream",
     "text": [
      "[[<model.Agent object at 0x117b2f490> <model.Agent object at 0x117b2f6d0>]\n",
      " [<model.Agent object at 0x117b2f4d0> <model.Agent object at 0x117b2f150>]\n",
      " [<model.Agent object at 0x117b2f590> <model.Agent object at 0x117b2f750>]\n",
      " [<model.Agent object at 0x117b2f610> <model.Agent object at 0x117b2f550>]\n",
      " [<model.Agent object at 0x117b2f710> <model.Agent object at 0x117b2f690>]]\n"
     ]
    }
   ],
   "source": [
    "# Testing out assortment\n",
    "from numpy.random import choice\n",
    "\n",
    "from model import Agent\n",
    "\n",
    "agents = [Agent() for _ in range(10)]\n",
    "\n",
    "pairs = choice(agents, size=(5,2), replace=False)\n",
    "\n",
    "print(pairs)"
   ]
  }
 ],
 "metadata": {
  "kernelspec": {
   "display_name": "Python 3",
   "language": "python",
   "name": "python3"
  },
  "language_info": {
   "codemirror_mode": {
    "name": "ipython",
    "version": 3
   },
   "file_extension": ".py",
   "mimetype": "text/x-python",
   "name": "python",
   "nbconvert_exporter": "python",
   "pygments_lexer": "ipython3",
   "version": "3.7.4"
  }
 },
 "nbformat": 4,
 "nbformat_minor": 2
}
